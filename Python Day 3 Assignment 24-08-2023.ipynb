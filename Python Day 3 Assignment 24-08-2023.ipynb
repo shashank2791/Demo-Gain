{
 "cells": [
  {
   "cell_type": "code",
   "execution_count": 35,
   "id": "594c53fc",
   "metadata": {},
   "outputs": [],
   "source": [
    "# Write a Python class Restaurant with attributes like menu_items, book_table, and customer_orders, and methods like add_item_to_menu, book_tables, and customer_order.\n",
    "# Perform the following tasks now:\n",
    "# Now add items to the menu.\n",
    "# Make table reservations.\n",
    "# Take customer orders.\n",
    "# Print the menu.\n",
    "# Print table reservations.\n",
    "# Print customer orders.\n",
    "# Note: Use dictionaries and lists to store the data."
   ]
  },
  {
   "cell_type": "code",
   "execution_count": 36,
   "id": "8243293d",
   "metadata": {},
   "outputs": [],
   "source": [
    "class Restaurant:\n",
    "    def __init__(self):\n",
    "        self.menu_items = {}\n",
    "        self.book_table = {}\n",
    "        self.customer_orders = []\n",
    "        \n",
    "    def add_items(self, item, price):\n",
    "        self.menu_items[item] = price\n",
    "    \n",
    "    def reserve_table(self, tableno, guests):\n",
    "        if tableno not in self.book_table:\n",
    "            self.book_table[tableno] = guests\n",
    "            print(f\"Table { tableno } has been reserved for { guests } guests.\")\n",
    "        else:\n",
    "            print(f\"Table { tableno } is already reserved for { guests }.\" )\n",
    "            \n",
    "    def customer_order(self, tableno, *items):\n",
    "        order = {\n",
    "            'table_number' : tableno, \n",
    "            'items' : items\n",
    "        }\n",
    "        \n",
    "        self.customer_orders.append(order)\n",
    "        print(f\"Order for Table {tableno}: {', '.join(items)}\")\n",
    "        \n",
    "    def print_menu(self):\n",
    "        print(\"Our Menu:\")\n",
    "        for item, price in self.menu_items.items():\n",
    "            print(f\"{item}: Rs. {price}\")\n",
    "    \n",
    "    def print_table_reservations(self):\n",
    "        print(\"Table Reservations:\")\n",
    "        for tableno, guests in self.book_table.items():\n",
    "            print(f\"Table {tableno}: {guests} people\")\n",
    "\n",
    "    def print_customer_orders(self):\n",
    "        print(\"Customer Orders:\")\n",
    "        for order in self.customer_orders:\n",
    "            tableno = order['table_number']\n",
    "            items = \", \".join(order['items'])\n",
    "            print(f\"Table {tableno}: {items}\")"
   ]
  },
  {
   "cell_type": "code",
   "execution_count": 37,
   "id": "468182b9",
   "metadata": {},
   "outputs": [
    {
     "name": "stdout",
     "output_type": "stream",
     "text": [
      "Table 1 has been reserved for 4 guests.\n",
      "Table 2 has been reserved for 6 guests.\n",
      "Table 3 has been reserved for 2 guests.\n",
      "Order for Table 1: Momos, Pizza\n",
      "Order for Table 2: Pasta, Salad\n",
      "Order for Table 3: Pizza, Salad\n",
      "Our Menu:\n",
      "Momos: Rs. 200\n",
      "Pizza: Rs. 500\n",
      "Pasta: Rs. 250\n",
      "Salad: Rs. 130\n",
      "Table Reservations:\n",
      "Table 1: 4 people\n",
      "Table 2: 6 people\n",
      "Table 3: 2 people\n",
      "Customer Orders:\n",
      "Table 1: Momos, Pizza\n",
      "Table 2: Pasta, Salad\n",
      "Table 3: Pizza, Salad\n"
     ]
    }
   ],
   "source": [
    "restaurant = Restaurant()\n",
    "\n",
    "\n",
    "restaurant.add_items(\"Momos\", 200)\n",
    "restaurant.add_items(\"Pizza\", 500)\n",
    "restaurant.add_items(\"Pasta\", 250)\n",
    "restaurant.add_items(\"Salad\", 130)\n",
    "\n",
    "\n",
    "\n",
    "restaurant.reserve_table(1, 4)\n",
    "restaurant.reserve_table(2, 6)\n",
    "restaurant.reserve_table(3, 2)\n",
    "\n",
    "\n",
    "\n",
    "restaurant.customer_order(1, \"Momos\", \"Pizza\")\n",
    "restaurant.customer_order(2, \"Pasta\", \"Salad\")\n",
    "restaurant.customer_order(3, \"Pizza\", \"Salad\")\n",
    "\n",
    "\n",
    "\n",
    "restaurant.print_menu()\n",
    "restaurant.print_table_reservations()\n",
    "restaurant.print_customer_orders()"
   ]
  },
  {
   "cell_type": "code",
   "execution_count": null,
   "id": "5dc8de7f",
   "metadata": {},
   "outputs": [],
   "source": []
  },
  {
   "cell_type": "code",
   "execution_count": null,
   "id": "e8a37019",
   "metadata": {},
   "outputs": [],
   "source": []
  }
 ],
 "metadata": {
  "kernelspec": {
   "display_name": "Python 3 (ipykernel)",
   "language": "python",
   "name": "python3"
  },
  "language_info": {
   "codemirror_mode": {
    "name": "ipython",
    "version": 3
   },
   "file_extension": ".py",
   "mimetype": "text/x-python",
   "name": "python",
   "nbconvert_exporter": "python",
   "pygments_lexer": "ipython3",
   "version": "3.11.4"
  }
 },
 "nbformat": 4,
 "nbformat_minor": 5
}
