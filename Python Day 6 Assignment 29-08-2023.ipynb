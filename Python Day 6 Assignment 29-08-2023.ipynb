{
 "cells": [
  {
   "cell_type": "code",
   "execution_count": 1,
   "id": "bdf6e546",
   "metadata": {},
   "outputs": [],
   "source": [
    "#Create and make functions for registration page and login page. Both pages should have both register and login\n",
    "#button for their respective actions and the other button should redirect the user to new UI page. "
   ]
  },
  {
   "cell_type": "code",
   "execution_count": 2,
   "id": "a364dd69",
   "metadata": {},
   "outputs": [
    {
     "ename": "SystemExit",
     "evalue": "0",
     "output_type": "error",
     "traceback": [
      "An exception has occurred, use %tb to see the full traceback.\n",
      "\u001b[0;31mSystemExit\u001b[0m\u001b[0;31m:\u001b[0m 0\n"
     ]
    },
    {
     "name": "stderr",
     "output_type": "stream",
     "text": [
      "/Users/smadhwal/anaconda3/lib/python3.11/site-packages/IPython/core/interactiveshell.py:3513: UserWarning: To exit: use 'exit', 'quit', or Ctrl-D.\n",
      "  warn(\"To exit: use 'exit', 'quit', or Ctrl-D.\", stacklevel=1)\n"
     ]
    }
   ],
   "source": [
    "from PyQt5 import QtWidgets, uic\n",
    "import sys\n",
    "uname ='root'\n",
    "upass ='password'\n",
    "def open_second_ui():\n",
    "    first.close()\n",
    "    second.show()\n",
    "\n",
    "    \n",
    "def open_first_ui():\n",
    "    second.close()\n",
    "    first.show()\n",
    "    \n",
    "def validate_login():\n",
    "    global uname, upass\n",
    "    username=first.Uname.text()\n",
    "    password=first.Upass.text()\n",
    "    if username==uname and password==upass:\n",
    "        first.Status_box.setText(\"Logged In\")\n",
    "    else:\n",
    "        first.Status_box.setText(\"Try to Login Again\")\n",
    "        \n",
    "def register_user():\n",
    "    global uname, upass\n",
    "    second.RegisterUsr.setText(\"Registration Done\")\n",
    "    uname=second.new_usr.text()\n",
    "    upass=second.new_pass.text()\n",
    "    \n",
    "\n",
    "demo = QtWidgets.QApplication([])\n",
    "\n",
    "second = uic.loadUi(\"/Users/smadhwal/Desktop/register.ui\")   \n",
    "first = uic.loadUi(\"/Users/smadhwal/Desktop/login.ui\")\n",
    "\n",
    "first.show()\n",
    "\n",
    "# Assuming registerbtn is a QLabel\n",
    "first.registerbtn.clicked.connect(open_second_ui)\n",
    "second.LoginBtn.clicked.connect(open_first_ui)\n",
    "first.loginbtn.clicked.connect(validate_login)\n",
    "second.RegisterBtn.clicked.connect(register_user)\n",
    "\n",
    "sys.exit(demo.exec_())"
   ]
  },
  {
   "cell_type": "code",
   "execution_count": null,
   "id": "d0734978",
   "metadata": {},
   "outputs": [],
   "source": []
  }
 ],
 "metadata": {
  "kernelspec": {
   "display_name": "Python 3 (ipykernel)",
   "language": "python",
   "name": "python3"
  },
  "language_info": {
   "codemirror_mode": {
    "name": "ipython",
    "version": 3
   },
   "file_extension": ".py",
   "mimetype": "text/x-python",
   "name": "python",
   "nbconvert_exporter": "python",
   "pygments_lexer": "ipython3",
   "version": "3.11.4"
  }
 },
 "nbformat": 4,
 "nbformat_minor": 5
}
