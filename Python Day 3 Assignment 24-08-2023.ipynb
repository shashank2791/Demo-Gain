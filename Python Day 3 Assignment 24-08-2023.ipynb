{
 "cells": [
  {
   "cell_type": "code",
   "execution_count": 3,
   "id": "57f493c9",
   "metadata": {},
   "outputs": [],
   "source": [
    "# Implements the following UML\n",
    " \n",
    "# A. This application store the author(writer) data of some books and emails\n",
    "# B.  getAuthor()  get the list of authors and store in a string\n",
    "# C. addAuthor() is used to add an author anytime for book or email\n",
    "# D. getDat() get the date of the book or email\n",
    "# E. getTitle() can be used to get the title of the book\n",
    "# F. getSubject() is used to get the subject of the email\n",
    "# G. getTo() is used to get the information about the email\n",
    "# H.  "
   ]
  },
  {
   "cell_type": "code",
   "execution_count": 6,
   "id": "85342538",
   "metadata": {},
   "outputs": [
    {
     "name": "stdout",
     "output_type": "stream",
     "text": [
      "Authors:\n",
      "Author 1 (author1@example.com)\n",
      "Author 2 (author2@example.com)\n",
      "Book Author: Author 1 (author1@example.com)\n",
      "Book Title: Book Title\n",
      "Book Date: 2021-06-26 00:00:00\n",
      "Email Author: Author 2 (author2@example.com)\n",
      "Email Title: Email Title\n",
      "Email Date: 2020-02-13 00:00:00\n",
      "Email Subject: Email Subject1\n",
      "Email To: recipient@example.com\n"
     ]
    }
   ],
   "source": [
    "from datetime import datetime\n",
    "\n",
    "class Author:\n",
    "    def __init__(self, name, email):\n",
    "        self.name = name\n",
    "        self.email = email\n",
    "\n",
    "    def __str__(self):\n",
    "        return f\"{self.name} ({self.email})\"\n",
    "\n",
    "class Application:\n",
    "    def __init__(self):\n",
    "        self.authors = []\n",
    "\n",
    "    def getAuthor(self):\n",
    "        return \"\\n\".join(str(author) for author in self.authors)\n",
    "\n",
    "    def addAuthor(self, name, email):\n",
    "        author = Author(name, email)\n",
    "        self.authors.append(author)\n",
    "\n",
    "class Document:\n",
    "    def __init__(self, title, author, date):\n",
    "        self.title = title\n",
    "        self.author = author\n",
    "        self.date = date\n",
    "\n",
    "    def getDat(self):\n",
    "        return self.date\n",
    "\n",
    "    def getTitle(self):\n",
    "        return self.title\n",
    "\n",
    "class Book(Document):\n",
    "    def __init__(self, title, author, date):\n",
    "        super().__init__(title, author, date)\n",
    "\n",
    "class Email(Document):\n",
    "    def __init__(self, title, author, date, subject, to):\n",
    "        super().__init__(title, author, date)\n",
    "        self.subject = subject\n",
    "        self.to = to\n",
    "\n",
    "    def getSubject(self):\n",
    "        return self.subject\n",
    "\n",
    "    def getTo(self):\n",
    "        return self.to\n",
    "\n",
    "if __name__ == \"__main__\":\n",
    "    app = Application()\n",
    "\n",
    "    app.addAuthor(\"Author 1\", \"author1@example.com\")\n",
    "    app.addAuthor(\"Author 2\", \"author2@example.com\")\n",
    "\n",
    "    author_list = app.getAuthor()\n",
    "    print(\"Authors:\")\n",
    "    print(author_list)\n",
    "\n",
    "    book = Book(\"Book Title\", app.authors[0], datetime(2021, 6, 26))\n",
    "    email = Email(\"Email Title\", app.authors[1], datetime(2020, 2, 13), \"Email Subject1\", \"recipient@example.com\")\n",
    "\n",
    "    print(\"Book Author:\", book.author)\n",
    "    print(\"Book Title:\", book.getTitle())\n",
    "    print(\"Book Date:\", book.getDat())\n",
    "\n",
    "    print(\"Email Author:\", email.author)\n",
    "    print(\"Email Title:\", email.getTitle())\n",
    "    print(\"Email Date:\", email.getDat())\n",
    "    print(\"Email Subject:\", email.getSubject())\n",
    "    print(\"Email To:\", email.getTo())\n"
   ]
  },
  {
   "cell_type": "code",
   "execution_count": null,
   "id": "ecdfffb7",
   "metadata": {},
   "outputs": [],
   "source": []
  },
  {
   "cell_type": "code",
   "execution_count": null,
   "id": "c2c2ef28",
   "metadata": {},
   "outputs": [],
   "source": []
  },
  {
   "cell_type": "code",
   "execution_count": null,
   "id": "9635cdce",
   "metadata": {},
   "outputs": [],
   "source": []
  },
  {
   "cell_type": "code",
   "execution_count": null,
   "id": "0241dbf4",
   "metadata": {},
   "outputs": [],
   "source": []
  },
  {
   "cell_type": "code",
   "execution_count": null,
   "id": "693d9cdc",
   "metadata": {},
   "outputs": [],
   "source": []
  },
  {
   "cell_type": "code",
   "execution_count": null,
   "id": "4ee4980f",
   "metadata": {},
   "outputs": [],
   "source": []
  },
  {
   "cell_type": "code",
   "execution_count": null,
   "id": "3cacede9",
   "metadata": {},
   "outputs": [],
   "source": []
  },
  {
   "cell_type": "code",
   "execution_count": null,
   "id": "9f216e02",
   "metadata": {},
   "outputs": [],
   "source": []
  },
  {
   "cell_type": "code",
   "execution_count": null,
   "id": "e14f21e1",
   "metadata": {},
   "outputs": [],
   "source": []
  },
  {
   "cell_type": "code",
   "execution_count": null,
   "id": "d6d5aad8",
   "metadata": {},
   "outputs": [],
   "source": []
  },
  {
   "cell_type": "code",
   "execution_count": null,
   "id": "2743b81d",
   "metadata": {},
   "outputs": [],
   "source": []
  },
  {
   "cell_type": "code",
   "execution_count": null,
   "id": "14a9e62a",
   "metadata": {},
   "outputs": [],
   "source": []
  },
  {
   "cell_type": "code",
   "execution_count": null,
   "id": "86a9f717",
   "metadata": {},
   "outputs": [],
   "source": []
  },
  {
   "cell_type": "code",
   "execution_count": null,
   "id": "e5a42cfa",
   "metadata": {},
   "outputs": [],
   "source": []
  },
  {
   "cell_type": "code",
   "execution_count": null,
   "id": "83467e1f",
   "metadata": {},
   "outputs": [],
   "source": []
  },
  {
   "cell_type": "code",
   "execution_count": null,
   "id": "28d83944",
   "metadata": {},
   "outputs": [],
   "source": []
  },
  {
   "cell_type": "code",
   "execution_count": null,
   "id": "03c51a24",
   "metadata": {},
   "outputs": [],
   "source": []
  },
  {
   "cell_type": "code",
   "execution_count": null,
   "id": "656aedba",
   "metadata": {},
   "outputs": [],
   "source": []
  },
  {
   "cell_type": "code",
   "execution_count": null,
   "id": "8af0c98d",
   "metadata": {},
   "outputs": [],
   "source": []
  },
  {
   "cell_type": "code",
   "execution_count": null,
   "id": "529c0049",
   "metadata": {},
   "outputs": [],
   "source": []
  },
  {
   "cell_type": "code",
   "execution_count": null,
   "id": "8fd10514",
   "metadata": {},
   "outputs": [],
   "source": []
  },
  {
   "cell_type": "code",
   "execution_count": null,
   "id": "51723657",
   "metadata": {},
   "outputs": [],
   "source": []
  },
  {
   "cell_type": "code",
   "execution_count": null,
   "id": "b57c5f3e",
   "metadata": {},
   "outputs": [],
   "source": []
  }
 ],
 "metadata": {
  "kernelspec": {
   "display_name": "Python 3 (ipykernel)",
   "language": "python",
   "name": "python3"
  },
  "language_info": {
   "codemirror_mode": {
    "name": "ipython",
    "version": 3
   },
   "file_extension": ".py",
   "mimetype": "text/x-python",
   "name": "python",
   "nbconvert_exporter": "python",
   "pygments_lexer": "ipython3",
   "version": "3.11.4"
  }
 },
 "nbformat": 4,
 "nbformat_minor": 5
}
