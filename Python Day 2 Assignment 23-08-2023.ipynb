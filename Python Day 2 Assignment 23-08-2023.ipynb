{
 "cells": [
  {
   "cell_type": "code",
   "execution_count": 1,
   "id": "e98cddd0",
   "metadata": {},
   "outputs": [],
   "source": [
    "# 1. Write a Python class Employee with attributes like emp_id, emp_name, emp_salary, and emp_department and methods like calculate_emp_salary, emp_assign_department, and print_employee_details.\n",
    "# Sample Employee Data:\n",
    "# \"ADAMS\", \"E7876\", 50000, \"ACCOUNTING\"\n",
    "# \"JONES\", \"E7499\", 45000, \"RESEARCH\"\n",
    "# \"MARTIN\", \"E7900\", 50000, \"SALES\"\n",
    "# \"SMITH\", \"E7698\", 55000, \"OPERATIONS\"\n",
    "# Use 'assign_department' method to change the department of an employee.\n",
    "# Use 'print_employee_details' method to print the details of an employee.\n",
    "# Use 'calculate_emp_salary' method takes two arguments: salary and hours_worked, which is the number of hours worked by the employee. If the number of hours worked is more than 50, the method computes overtime and adds it to the salary. Overtime is calculated as following formula:\n",
    "# overtime = hours_worked - 50\n",
    "# Overtime amount = (overtime * (salary / 50))"
   ]
  },
  {
   "cell_type": "code",
   "execution_count": 2,
   "id": "6985be88",
   "metadata": {},
   "outputs": [],
   "source": [
    "class Employee:\n",
    "    def __init__(self, emp_id, emp_name, emp_salary, emp_department):\n",
    "        self.emp_id = emp_id\n",
    "        self.emp_name = emp_name\n",
    "        self.emp_salary = emp_salary\n",
    "        self.emp_department = emp_department\n",
    "        \n",
    "    def assign_department(self, new_department):\n",
    "        self.emp_department = new_department\n",
    "        \n",
    "    def print_employee_details(self):\n",
    "        print(\"Employee ID:\", self.emp_id)\n",
    "        print(\"Employee Name:\", self.emp_name)\n",
    "        print(\"Employee Salary:\", self.emp_salary)\n",
    "        print(\"Employee Department:\", self.emp_department)\n",
    "        \n",
    "    def calculate_emp_salary(self, hours_worked):\n",
    "        if hours_worked > 50:\n",
    "            overtime = hours_worked - 50\n",
    "            overtime_amount = (overtime * (self.emp_salary / 50))\n",
    "            total_salary = self.emp_salary + overtime_amount\n",
    "        else:\n",
    "            total_salary = self.emp_salary\n",
    "        return total_salary\n",
    "    \n",
    "    "
   ]
  },
  {
   "cell_type": "code",
   "execution_count": 3,
   "id": "22038e79",
   "metadata": {},
   "outputs": [
    {
     "name": "stdout",
     "output_type": "stream",
     "text": [
      "Employee ID: E7876\n",
      "Employee Name: ADAMS\n",
      "Employee Salary: 50000\n",
      "Employee Department: ACCOUNTING\n",
      "Employee ID: E7499\n",
      "Employee Name: JONES\n",
      "Employee Salary: 45000\n",
      "Employee Department: RESEARCH\n",
      "Employee ID: E7900\n",
      "Employee Name: MARTIN\n",
      "Employee Salary: 50000\n",
      "Employee Department: SALES\n",
      "Employee ID: E7698\n",
      "Employee Name: SMITH\n",
      "Employee Salary: 55000\n",
      "Employee Department: OPERATIONS\n",
      "Enter Employee Id to Modify: \n",
      "Enter a valid Employee ID.\n"
     ]
    }
   ],
   "source": [
    "# Sample Employee Data\n",
    "employees_data = [\n",
    "    (\"E7876\", \"ADAMS\", 50000, \"ACCOUNTING\"),\n",
    "    (\"E7499\", \"JONES\", 45000, \"RESEARCH\"),\n",
    "    (\"E7900\", \"MARTIN\", 50000, \"SALES\"),\n",
    "    (\"E7698\", \"SMITH\", 55000, \"OPERATIONS\")\n",
    "]\n",
    "\n",
    "# Creating Employee instances\n",
    "employees = []\n",
    "for emp_id, emp_name, emp_salary, emp_department in employees_data:\n",
    "    emp = Employee(emp_id, emp_name, emp_salary, emp_department)\n",
    "    employees.append(emp)\n",
    "\n",
    "# Example usage\n",
    "for emp in employees:\n",
    "    emp.print_employee_details()\n",
    "    \n",
    "    \n",
    "filter_id = input(\"Enter Employee Id to Modify: \")   \n",
    "\n",
    "\n",
    "if(any (filter_id in i for i in employe)):    \n",
    "    new_department = input(\"Enter new department: \")\n",
    "    emp.assign_department(new_department)\n",
    "    hours_worked = float(input(\"Enter hours worked: \"))\n",
    "    total_salary = emp.calculate_emp_salary(hours_worked)\n",
    "    print(\"Total Salary:\", total_salary)\n",
    "    print()\n",
    "    \n",
    "else:\n",
    "    print(\"Enter a valid Employee ID.\")"
   ]
  },
  {
   "cell_type": "code",
   "execution_count": null,
   "id": "a7dcd4ae",
   "metadata": {},
   "outputs": [],
   "source": []
  },
  {
   "cell_type": "code",
   "execution_count": null,
   "id": "6a743165",
   "metadata": {},
   "outputs": [],
   "source": []
  },
  {
   "cell_type": "code",
   "execution_count": 4,
   "id": "594c53fc",
   "metadata": {},
   "outputs": [],
   "source": [
    "# Write a Python class Restaurant with attributes like menu_items, book_table, and customer_orders, and methods like add_item_to_menu, book_tables, and customer_order.\n",
    "# Perform the following tasks now:\n",
    "# Now add items to the menu.\n",
    "# Make table reservations.\n",
    "# Take customer orders.\n",
    "# Print the menu.\n",
    "# Print table reservations.\n",
    "# Print customer orders.\n",
    "# Note: Use dictionaries and lists to store the data."
   ]
  },
  {
   "cell_type": "code",
   "execution_count": 5,
   "id": "8243293d",
   "metadata": {},
   "outputs": [],
   "source": [
    "class Restaurant:\n",
    "    def __init__(self):\n",
    "        self.menu_items = {}\n",
    "        self.book_table = {}\n",
    "        self.customer_orders = []\n",
    "        \n",
    "    def add_items(self, item, price):\n",
    "        self.menu_items[item] = price\n",
    "    \n",
    "    def reserve_table(self, tableno, guests):\n",
    "        if tableno not in self.book_table:\n",
    "            self.book_table[tableno] = guests\n",
    "            print(f\"Table { tableno } has been reserved for { guests } guests.\")\n",
    "        else:\n",
    "            print(f\"Table { tableno } is already reserved for { guests }.\" )\n",
    "            \n",
    "    def customer_order(self, tableno, *items):\n",
    "        order = {\n",
    "            'table_number' : tableno, \n",
    "            'items' : items\n",
    "        }\n",
    "        \n",
    "        self.customer_orders.append(order)\n",
    "        print(f\"Order for Table {tableno}: {', '.join(items)}\")\n",
    "        \n",
    "    def print_menu(self):\n",
    "        print(\"Our Menu:\")\n",
    "        for item, price in self.menu_items.items():\n",
    "            print(f\"{item}: Rs. {price}\")\n",
    "    \n",
    "    def print_table_reservations(self):\n",
    "        print(\"Table Reservations:\")\n",
    "        for tableno, guests in self.book_table.items():\n",
    "            print(f\"Table {tableno}: {guests} people\")\n",
    "\n",
    "    def print_customer_orders(self):\n",
    "        print(\"Customer Orders:\")\n",
    "        for order in self.customer_orders:\n",
    "            tableno = order['table_number']\n",
    "            items = \", \".join(order['items'])\n",
    "            print(f\"Table {tableno}: {items}\")"
   ]
  },
  {
   "cell_type": "code",
   "execution_count": 6,
   "id": "468182b9",
   "metadata": {},
   "outputs": [
    {
     "name": "stdout",
     "output_type": "stream",
     "text": [
      "Table 1 has been reserved for 4 guests.\n",
      "Table 2 has been reserved for 6 guests.\n",
      "Table 3 has been reserved for 2 guests.\n",
      "Order for Table 1: Momos, Pizza\n",
      "Order for Table 2: Pasta, Salad\n",
      "Order for Table 3: Pizza, Salad\n",
      "Our Menu:\n",
      "Momos: Rs. 200\n",
      "Pizza: Rs. 500\n",
      "Pasta: Rs. 250\n",
      "Salad: Rs. 130\n",
      "Table Reservations:\n",
      "Table 1: 4 people\n",
      "Table 2: 6 people\n",
      "Table 3: 2 people\n",
      "Customer Orders:\n",
      "Table 1: Momos, Pizza\n",
      "Table 2: Pasta, Salad\n",
      "Table 3: Pizza, Salad\n"
     ]
    }
   ],
   "source": [
    "restaurant = Restaurant()\n",
    "\n",
    "\n",
    "restaurant.add_items(\"Momos\", 200)\n",
    "restaurant.add_items(\"Pizza\", 500)\n",
    "restaurant.add_items(\"Pasta\", 250)\n",
    "restaurant.add_items(\"Salad\", 130)\n",
    "\n",
    "\n",
    "\n",
    "restaurant.reserve_table(1, 4)\n",
    "restaurant.reserve_table(2, 6)\n",
    "restaurant.reserve_table(3, 2)\n",
    "\n",
    "\n",
    "\n",
    "restaurant.customer_order(1, \"Momos\", \"Pizza\")\n",
    "restaurant.customer_order(2, \"Pasta\", \"Salad\")\n",
    "restaurant.customer_order(3, \"Pizza\", \"Salad\")\n",
    "\n",
    "\n",
    "\n",
    "restaurant.print_menu()\n",
    "restaurant.print_table_reservations()\n",
    "restaurant.print_customer_orders()"
   ]
  },
  {
   "cell_type": "code",
   "execution_count": null,
   "id": "5dc8de7f",
   "metadata": {},
   "outputs": [],
   "source": []
  },
  {
   "cell_type": "code",
   "execution_count": null,
   "id": "e8a37019",
   "metadata": {},
   "outputs": [],
   "source": []
  },
  {
   "cell_type": "code",
   "execution_count": null,
   "id": "57f493c9",
   "metadata": {},
   "outputs": [],
   "source": []
  },
  {
   "cell_type": "code",
   "execution_count": null,
   "id": "85342538",
   "metadata": {},
   "outputs": [],
   "source": []
  },
  {
   "cell_type": "code",
   "execution_count": null,
   "id": "c5530db8",
   "metadata": {},
   "outputs": [],
   "source": []
  },
  {
   "cell_type": "code",
   "execution_count": null,
   "id": "0ffb8fb4",
   "metadata": {},
   "outputs": [],
   "source": []
  },
  {
   "cell_type": "code",
   "execution_count": null,
   "id": "cceae418",
   "metadata": {},
   "outputs": [],
   "source": []
  },
  {
   "cell_type": "code",
   "execution_count": null,
   "id": "6384af2c",
   "metadata": {},
   "outputs": [],
   "source": []
  },
  {
   "cell_type": "code",
   "execution_count": null,
   "id": "ecdfffb7",
   "metadata": {},
   "outputs": [],
   "source": []
  },
  {
   "cell_type": "code",
   "execution_count": null,
   "id": "8af0c98d",
   "metadata": {},
   "outputs": [],
   "source": []
  },
  {
   "cell_type": "code",
   "execution_count": null,
   "id": "529c0049",
   "metadata": {},
   "outputs": [],
   "source": []
  },
  {
   "cell_type": "code",
   "execution_count": null,
   "id": "8fd10514",
   "metadata": {},
   "outputs": [],
   "source": []
  },
  {
   "cell_type": "code",
   "execution_count": null,
   "id": "51723657",
   "metadata": {},
   "outputs": [],
   "source": []
  },
  {
   "cell_type": "code",
   "execution_count": null,
   "id": "b57c5f3e",
   "metadata": {},
   "outputs": [],
   "source": []
  }
 ],
 "metadata": {
  "kernelspec": {
   "display_name": "Python 3 (ipykernel)",
   "language": "python",
   "name": "python3"
  },
  "language_info": {
   "codemirror_mode": {
    "name": "ipython",
    "version": 3
   },
   "file_extension": ".py",
   "mimetype": "text/x-python",
   "name": "python",
   "nbconvert_exporter": "python",
   "pygments_lexer": "ipython3",
   "version": "3.11.4"
  }
 },
 "nbformat": 4,
 "nbformat_minor": 5
}
