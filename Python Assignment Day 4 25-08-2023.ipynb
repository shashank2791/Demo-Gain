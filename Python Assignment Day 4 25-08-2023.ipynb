{
 "cells": [
  {
   "cell_type": "code",
   "execution_count": 15,
   "id": "de7fa74b",
   "metadata": {},
   "outputs": [],
   "source": [
    "# 1. Write a Python program that prompts the user to input two numbers and \n",
    "# raises a TypeError exception if the inputs are not numerical.\n",
    "# exception TypeError:\n",
    "# Raised when an operation or function is applied to an object of inappropriate type. \n",
    "# The associated value is a string giving details about the type mismatch.\n"
   ]
  },
  {
   "cell_type": "code",
   "execution_count": 16,
   "id": "5515846b",
   "metadata": {},
   "outputs": [
    {
     "name": "stdout",
     "output_type": "stream",
     "text": [
      "Enter the first number: y\n",
      "Invalid input. Please enter a numerical value.\n",
      "Enter the first number: u\n",
      "Invalid input. Please enter a numerical value.\n",
      "Enter the first number: 4\n",
      "Enter the second number: 8\n",
      "Sum: 12.0\n"
     ]
    }
   ],
   "source": [
    "def get_num(prompt):\n",
    "    while True:\n",
    "        try:\n",
    "            value = float(input(prompt))\n",
    "            return value\n",
    "        except ValueError:\n",
    "            print(\"Invalid input. Please enter a numerical value.\")\n",
    "\n",
    "try:\n",
    "    num1 = get_num(\"Enter the first number: \")\n",
    "    num2 = get_num(\"Enter the second number: \")\n",
    "\n",
    "    result = num1 + num2\n",
    "    print(\"Sum:\", result)\n",
    "\n",
    "except TypeError as e:\n",
    "    print(\"TypeError:\", e)"
   ]
  },
  {
   "cell_type": "code",
   "execution_count": 17,
   "id": "d741f8c4",
   "metadata": {},
   "outputs": [],
   "source": [
    "# 2. Write a Python program that prompts the user to input a number and handles a KeyboardInterrupt exception \n",
    "# if the user cancels the input.\n",
    "\n",
    "\n",
    "# exception KeyboardInterrupt:\n",
    "# Raised when the user hits the interrupt key (normally Control-C or Delete). \n",
    "# During execution, a check for interrupts is made regularly. The exception inherits from BaseException \n",
    "# so as to not be accidentally caught by code that catches Exception and thus prevent the interpreter from exiting."
   ]
  },
  {
   "cell_type": "code",
   "execution_count": 18,
   "id": "c2abab8d",
   "metadata": {},
   "outputs": [
    {
     "name": "stdout",
     "output_type": "stream",
     "text": [
      "Enter a number: 6\n",
      "You entered: 6.0\n"
     ]
    }
   ],
   "source": [
    "try:\n",
    "    number = float(input(\"Enter a number: \"))\n",
    "    print(\"You entered:\", number)\n",
    "except KeyboardInterrupt:\n",
    "    print(\"\\nInput was canceled by the user.\")\n",
    "except ValueError:\n",
    "    print(\"Invalid input. Please enter a numerical value.\")\n"
   ]
  },
  {
   "cell_type": "code",
   "execution_count": 19,
   "id": "1ce5528a",
   "metadata": {},
   "outputs": [
    {
     "name": "stdout",
     "output_type": "stream",
     "text": [
      "Enter a number: y\n",
      "Invalid input. Please enter a numerical value.\n"
     ]
    }
   ],
   "source": [
    "try:\n",
    "    number = float(input(\"Enter a number: \"))\n",
    "    print(\"You entered:\", number)\n",
    "except KeyboardInterrupt:\n",
    "    print(\"\\nInput was canceled by the user.\")\n",
    "except ValueError:\n",
    "    print(\"Invalid input. Please enter a numerical value.\")\n"
   ]
  },
  {
   "cell_type": "code",
   "execution_count": 22,
   "id": "463ed1b1",
   "metadata": {},
   "outputs": [
    {
     "name": "stdout",
     "output_type": "stream",
     "text": [
      "Enter a number: 6\n",
      "You entered: 6.0\n"
     ]
    }
   ],
   "source": [
    "try:\n",
    "    number = float(input(\"Enter a number: \"))\n",
    "    print(\"You entered:\", number)\n",
    "except KeyboardInterrupt:\n",
    "    print(\"\\nInput was canceled by the user.\")\n",
    "except ValueError:\n",
    "    print(\"Invalid input. Please enter a numerical value.\")\n"
   ]
  },
  {
   "cell_type": "code",
   "execution_count": 23,
   "id": "a3cc15de",
   "metadata": {},
   "outputs": [],
   "source": [
    "# 3. Write a Python program that opens a file and handles a UnicodeDecodeError exception \n",
    "# if there is an encoding issue."
   ]
  },
  {
   "cell_type": "code",
   "execution_count": 24,
   "id": "1f2a8397",
   "metadata": {},
   "outputs": [
    {
     "name": "stdout",
     "output_type": "stream",
     "text": [
      "File content:\n",
      "Hey There! This is a sample edit file!\n"
     ]
    }
   ],
   "source": [
    "file_path = \"SampleAssignement1.txt\"\n",
    "\n",
    "try:\n",
    "    with open(file_path, \"r\", encoding=\"utf-8\") as file:\n",
    "        content = file.read()\n",
    "        print(\"File content:\")\n",
    "        print(content)\n",
    "except UnicodeDecodeError as e:\n",
    "    print(\"UnicodeDecodeError:\", e)\n",
    "    print(\"There was an encoding issue while reading the file.\")\n",
    "except FileNotFoundError:\n",
    "    print(f\"The file '{file_path}' was not found.\")\n",
    "except Exception as e:\n",
    "    print(\"An error occurred:\", e)"
   ]
  },
  {
   "cell_type": "code",
   "execution_count": 25,
   "id": "d92ce372",
   "metadata": {},
   "outputs": [],
   "source": [
    "# 4. Write a Python program that executes a \n",
    "# list operation and handles an AttributeError exception if the attribute does not exist."
   ]
  },
  {
   "cell_type": "code",
   "execution_count": 26,
   "id": "b845a27a",
   "metadata": {},
   "outputs": [
    {
     "name": "stdout",
     "output_type": "stream",
     "text": [
      "AttributeError: 'list' object has no attribute 'length'\n",
      "The attribute does not exist in the list.\n"
     ]
    }
   ],
   "source": [
    "try:\n",
    "    my_list = [1, 2, 3, 'a', 'b']\n",
    "    print(\"List length:\", my_list.length)\n",
    "except AttributeError as e:\n",
    "    print(\"AttributeError:\", e)\n",
    "    print(\"The attribute does not exist in the list.\")\n",
    "except Exception as e:\n",
    "    print(\"An error occurred:\", e)"
   ]
  },
  {
   "cell_type": "code",
   "execution_count": 27,
   "id": "e1e92444",
   "metadata": {},
   "outputs": [
    {
     "name": "stdout",
     "output_type": "stream",
     "text": [
      "List index for 3: 2\n"
     ]
    }
   ],
   "source": [
    "try:\n",
    "    my_list = [1, 2, 3, 'a', 'b']\n",
    "    print(\"List index for 3:\", my_list.index(3))\n",
    "except AttributeError as e:\n",
    "    print(\"AttributeError:\", e)\n",
    "    print(\"The attribute does not exist in the list.\")\n",
    "except Exception as e:\n",
    "    print(\"An error occurred:\", e)"
   ]
  },
  {
   "cell_type": "code",
   "execution_count": null,
   "id": "a3bf4203",
   "metadata": {},
   "outputs": [],
   "source": []
  },
  {
   "cell_type": "code",
   "execution_count": null,
   "id": "efd6d720",
   "metadata": {},
   "outputs": [],
   "source": []
  },
  {
   "cell_type": "code",
   "execution_count": null,
   "id": "e3b33884",
   "metadata": {},
   "outputs": [],
   "source": []
  },
  {
   "cell_type": "code",
   "execution_count": null,
   "id": "aaaa019a",
   "metadata": {},
   "outputs": [],
   "source": []
  }
 ],
 "metadata": {
  "kernelspec": {
   "display_name": "Python 3 (ipykernel)",
   "language": "python",
   "name": "python3"
  },
  "language_info": {
   "codemirror_mode": {
    "name": "ipython",
    "version": 3
   },
   "file_extension": ".py",
   "mimetype": "text/x-python",
   "name": "python",
   "nbconvert_exporter": "python",
   "pygments_lexer": "ipython3",
   "version": "3.11.4"
  }
 },
 "nbformat": 4,
 "nbformat_minor": 5
}
