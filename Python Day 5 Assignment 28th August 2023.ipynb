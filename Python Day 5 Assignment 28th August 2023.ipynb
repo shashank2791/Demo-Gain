{
 "cells": [
  {
   "cell_type": "code",
   "execution_count": 1,
   "id": "7bb53719",
   "metadata": {},
   "outputs": [
    {
     "name": "stdout",
     "output_type": "stream",
     "text": [
      "Requirement already satisfied: tweepy in ./anaconda3/lib/python3.11/site-packages (4.14.0)\n",
      "Requirement already satisfied: oauthlib<4,>=3.2.0 in ./anaconda3/lib/python3.11/site-packages (from tweepy) (3.2.2)\n",
      "Requirement already satisfied: requests<3,>=2.27.0 in ./anaconda3/lib/python3.11/site-packages (from tweepy) (2.31.0)\n",
      "Requirement already satisfied: requests-oauthlib<2,>=1.2.0 in ./anaconda3/lib/python3.11/site-packages (from tweepy) (1.3.1)\n",
      "Requirement already satisfied: charset-normalizer<4,>=2 in ./anaconda3/lib/python3.11/site-packages (from requests<3,>=2.27.0->tweepy) (2.0.4)\n",
      "Requirement already satisfied: idna<4,>=2.5 in ./anaconda3/lib/python3.11/site-packages (from requests<3,>=2.27.0->tweepy) (3.4)\n",
      "Requirement already satisfied: urllib3<3,>=1.21.1 in ./anaconda3/lib/python3.11/site-packages (from requests<3,>=2.27.0->tweepy) (1.26.16)\n",
      "Requirement already satisfied: certifi>=2017.4.17 in ./anaconda3/lib/python3.11/site-packages (from requests<3,>=2.27.0->tweepy) (2023.7.22)\n",
      "Requirement already satisfied: preprocessor in ./anaconda3/lib/python3.11/site-packages (1.1.3)\n",
      "Requirement already satisfied: credentials in ./anaconda3/lib/python3.11/site-packages (1.1)\n"
     ]
    }
   ],
   "source": [
    "!pip install tweepy\n",
    "!pip install preprocessor\n",
    "!pip install credentials"
   ]
  },
  {
   "cell_type": "code",
   "execution_count": 2,
   "id": "83bb0f86",
   "metadata": {},
   "outputs": [],
   "source": [
    "from credentials import *\n",
    "\n",
    "import tweepy\n",
    "from time import sleep\n",
    " \n",
    "import pandas as pd\n",
    "import csv\n",
    "import re \n",
    "import string\n",
    "import preprocessor as p\n",
    "import requests\n",
    " \n",
    "api_key = \"x7vkSzDY9A66D12HHQHhLfJtn\"\n",
    "api_key_secret = \"RNXZTz3gL433W8KHql676MDhkoXOPQNUUESrFZnGSR9PqmRJvK\"\n",
    "access_key= \"1485538568143802369-AUJSwA8vV4LjO0PW8fu2C1fNgDxhUx\"\n",
    "access_token_secret = \"UnNNUnnwzwHpRXuWOZCgCrfyc0yobX3dJuRHLAv2z1ep4\"\n",
    "bearer_token = \"AAAAAAAAAAAAAAAAAAAAAKKUpgEAAAAAphHFQC6JQcNrvLM5U9YPlFZvatU%3D2L3w9Sm7lAGtsMXkxSjzISIUiAwLBFMLbA0QioSTcSBfvZb4DP\""
   ]
  },
  {
   "cell_type": "code",
   "execution_count": 3,
   "id": "6ed2e1a1",
   "metadata": {},
   "outputs": [],
   "source": [
    "# Authenticate\n",
    "auth = tweepy.OAuthHandler(api_key, api_key_secret)\n",
    "auth.set_access_token(access_key, access_token_secret)\n",
    "api = tweepy.API(auth)"
   ]
  },
  {
   "cell_type": "code",
   "execution_count": 4,
   "id": "923306e4",
   "metadata": {},
   "outputs": [
    {
     "data": {
      "text/plain": [
       "1485538568143802369"
      ]
     },
     "execution_count": 4,
     "metadata": {},
     "output_type": "execute_result"
    }
   ],
   "source": [
    "my_screen_name = \"MadShank21\"\n",
    "user1 = api.get_user(screen_name=my_screen_name)\n",
    "user1.id\n"
   ]
  },
  {
   "cell_type": "code",
   "execution_count": 6,
   "id": "70bfddda",
   "metadata": {},
   "outputs": [
    {
     "data": {
      "text/plain": [
       "'Shashank Madhwal'"
      ]
     },
     "execution_count": 6,
     "metadata": {},
     "output_type": "execute_result"
    }
   ],
   "source": [
    "\n",
    "user2 = api.get_user(user_id = user1.id)\n",
    "user1.name\n"
   ]
  },
  {
   "cell_type": "code",
   "execution_count": 7,
   "id": "13eb4f17",
   "metadata": {},
   "outputs": [
    {
     "name": "stdout",
     "output_type": "stream",
     "text": [
      "{'client_id': '27694242', 'detail': 'When authenticating requests to the Twitter API v2 endpoints, you must use keys and tokens from a Twitter developer App that is attached to a Project. You can create a project via the developer portal.', 'registration_url': 'https://developer.twitter.com/en/docs/projects/overview', 'title': 'Client Forbidden', 'required_enrollment': 'Appropriate Level of API Access', 'reason': 'client-not-enrolled', 'type': 'https://api.twitter.com/2/problems/client-forbidden'}\n"
     ]
    }
   ],
   "source": [
    "endpoint_url = 'https://api.twitter.com/2/tweets/search/recent'\n",
    "params = {\n",
    "    'query': 'from:twitterdev',\n",
    "    'max_results': 10\n",
    "}\n",
    "headers = {\n",
    "    'Authorization': f'Bearer {bearer_token}'\n",
    "}\n",
    "\n",
    "# Make the API request\n",
    "response = requests.get(endpoint_url, params=params, headers=headers)\n",
    "\n",
    "# Print the response\n",
    "print(response.json())"
   ]
  },
  {
   "cell_type": "code",
   "execution_count": 8,
   "id": "013a27a8",
   "metadata": {},
   "outputs": [
    {
     "ename": "Forbidden",
     "evalue": "403 Forbidden\n453 - You currently have access to a subset of Twitter API v2 endpoints and limited v1.1 endpoints (e.g. media post, oauth) only. If you need access to this endpoint, you may need a different access level. You can learn more here: https://developer.twitter.com/en/portal/product",
     "output_type": "error",
     "traceback": [
      "\u001b[0;31m---------------------------------------------------------------------------\u001b[0m",
      "\u001b[0;31mForbidden\u001b[0m                                 Traceback (most recent call last)",
      "Cell \u001b[0;32mIn[8], line 4\u001b[0m\n\u001b[1;32m      1\u001b[0m \u001b[38;5;66;03m# Fetch user's tweets \u001b[39;00m\n\u001b[1;32m      2\u001b[0m \n\u001b[1;32m      3\u001b[0m \u001b[38;5;66;03m#Returns 403 forbidden as from API V2 the user reading access has been denied and it's paid\u001b[39;00m\n\u001b[0;32m----> 4\u001b[0m tweets \u001b[38;5;241m=\u001b[39m api\u001b[38;5;241m.\u001b[39muser_timeline(screen_name\u001b[38;5;241m=\u001b[39m\u001b[38;5;28mstr\u001b[39m(user1\u001b[38;5;241m.\u001b[39mname))\n\u001b[1;32m      6\u001b[0m \u001b[38;5;66;03m# Print fetched tweets\u001b[39;00m\n\u001b[1;32m      7\u001b[0m \u001b[38;5;28;01mfor\u001b[39;00m tweet \u001b[38;5;129;01min\u001b[39;00m tweets:\n",
      "File \u001b[0;32m~/anaconda3/lib/python3.11/site-packages/tweepy/api.py:33\u001b[0m, in \u001b[0;36mpagination.<locals>.decorator.<locals>.wrapper\u001b[0;34m(*args, **kwargs)\u001b[0m\n\u001b[1;32m     31\u001b[0m \u001b[38;5;129m@functools\u001b[39m\u001b[38;5;241m.\u001b[39mwraps(method)\n\u001b[1;32m     32\u001b[0m \u001b[38;5;28;01mdef\u001b[39;00m \u001b[38;5;21mwrapper\u001b[39m(\u001b[38;5;241m*\u001b[39margs, \u001b[38;5;241m*\u001b[39m\u001b[38;5;241m*\u001b[39mkwargs):\n\u001b[0;32m---> 33\u001b[0m     \u001b[38;5;28;01mreturn\u001b[39;00m method(\u001b[38;5;241m*\u001b[39margs, \u001b[38;5;241m*\u001b[39m\u001b[38;5;241m*\u001b[39mkwargs)\n",
      "File \u001b[0;32m~/anaconda3/lib/python3.11/site-packages/tweepy/api.py:46\u001b[0m, in \u001b[0;36mpayload.<locals>.decorator.<locals>.wrapper\u001b[0;34m(*args, **kwargs)\u001b[0m\n\u001b[1;32m     44\u001b[0m kwargs[\u001b[38;5;124m'\u001b[39m\u001b[38;5;124mpayload_list\u001b[39m\u001b[38;5;124m'\u001b[39m] \u001b[38;5;241m=\u001b[39m payload_list\n\u001b[1;32m     45\u001b[0m kwargs[\u001b[38;5;124m'\u001b[39m\u001b[38;5;124mpayload_type\u001b[39m\u001b[38;5;124m'\u001b[39m] \u001b[38;5;241m=\u001b[39m payload_type\n\u001b[0;32m---> 46\u001b[0m \u001b[38;5;28;01mreturn\u001b[39;00m method(\u001b[38;5;241m*\u001b[39margs, \u001b[38;5;241m*\u001b[39m\u001b[38;5;241m*\u001b[39mkwargs)\n",
      "File \u001b[0;32m~/anaconda3/lib/python3.11/site-packages/tweepy/api.py:414\u001b[0m, in \u001b[0;36mAPI.user_timeline\u001b[0;34m(self, **kwargs)\u001b[0m\n\u001b[1;32m    373\u001b[0m \u001b[38;5;129m@pagination\u001b[39m(mode\u001b[38;5;241m=\u001b[39m\u001b[38;5;124m'\u001b[39m\u001b[38;5;124mid\u001b[39m\u001b[38;5;124m'\u001b[39m)\n\u001b[1;32m    374\u001b[0m \u001b[38;5;129m@payload\u001b[39m(\u001b[38;5;124m'\u001b[39m\u001b[38;5;124mstatus\u001b[39m\u001b[38;5;124m'\u001b[39m, \u001b[38;5;28mlist\u001b[39m\u001b[38;5;241m=\u001b[39m\u001b[38;5;28;01mTrue\u001b[39;00m)\n\u001b[1;32m    375\u001b[0m \u001b[38;5;28;01mdef\u001b[39;00m \u001b[38;5;21muser_timeline\u001b[39m(\u001b[38;5;28mself\u001b[39m, \u001b[38;5;241m*\u001b[39m\u001b[38;5;241m*\u001b[39mkwargs):\n\u001b[1;32m    376\u001b[0m \u001b[38;5;250m    \u001b[39m\u001b[38;5;124;03m\"\"\"user_timeline(*, user_id, screen_name, since_id, count, max_id, \\\u001b[39;00m\n\u001b[1;32m    377\u001b[0m \u001b[38;5;124;03m                     trim_user, exclude_replies, include_rts)\u001b[39;00m\n\u001b[1;32m    378\u001b[0m \n\u001b[0;32m   (...)\u001b[0m\n\u001b[1;32m    412\u001b[0m \u001b[38;5;124;03m    https://developer.twitter.com/en/docs/twitter-api/v1/tweets/timelines/api-reference/get-statuses-user_timeline\u001b[39;00m\n\u001b[1;32m    413\u001b[0m \u001b[38;5;124;03m    \"\"\"\u001b[39;00m\n\u001b[0;32m--> 414\u001b[0m     \u001b[38;5;28;01mreturn\u001b[39;00m \u001b[38;5;28mself\u001b[39m\u001b[38;5;241m.\u001b[39mrequest(\n\u001b[1;32m    415\u001b[0m         \u001b[38;5;124m'\u001b[39m\u001b[38;5;124mGET\u001b[39m\u001b[38;5;124m'\u001b[39m, \u001b[38;5;124m'\u001b[39m\u001b[38;5;124mstatuses/user_timeline\u001b[39m\u001b[38;5;124m'\u001b[39m, endpoint_parameters\u001b[38;5;241m=\u001b[39m(\n\u001b[1;32m    416\u001b[0m             \u001b[38;5;124m'\u001b[39m\u001b[38;5;124muser_id\u001b[39m\u001b[38;5;124m'\u001b[39m, \u001b[38;5;124m'\u001b[39m\u001b[38;5;124mscreen_name\u001b[39m\u001b[38;5;124m'\u001b[39m, \u001b[38;5;124m'\u001b[39m\u001b[38;5;124msince_id\u001b[39m\u001b[38;5;124m'\u001b[39m, \u001b[38;5;124m'\u001b[39m\u001b[38;5;124mcount\u001b[39m\u001b[38;5;124m'\u001b[39m, \u001b[38;5;124m'\u001b[39m\u001b[38;5;124mmax_id\u001b[39m\u001b[38;5;124m'\u001b[39m,\n\u001b[1;32m    417\u001b[0m             \u001b[38;5;124m'\u001b[39m\u001b[38;5;124mtrim_user\u001b[39m\u001b[38;5;124m'\u001b[39m, \u001b[38;5;124m'\u001b[39m\u001b[38;5;124mexclude_replies\u001b[39m\u001b[38;5;124m'\u001b[39m, \u001b[38;5;124m'\u001b[39m\u001b[38;5;124minclude_rts\u001b[39m\u001b[38;5;124m'\u001b[39m\n\u001b[1;32m    418\u001b[0m         ), \u001b[38;5;241m*\u001b[39m\u001b[38;5;241m*\u001b[39mkwargs\n\u001b[1;32m    419\u001b[0m     )\n",
      "File \u001b[0;32m~/anaconda3/lib/python3.11/site-packages/tweepy/api.py:271\u001b[0m, in \u001b[0;36mAPI.request\u001b[0;34m(self, method, endpoint, endpoint_parameters, params, headers, json_payload, parser, payload_list, payload_type, post_data, files, require_auth, return_cursors, upload_api, use_cache, **kwargs)\u001b[0m\n\u001b[1;32m    269\u001b[0m     \u001b[38;5;28;01mraise\u001b[39;00m Unauthorized(resp)\n\u001b[1;32m    270\u001b[0m \u001b[38;5;28;01mif\u001b[39;00m resp\u001b[38;5;241m.\u001b[39mstatus_code \u001b[38;5;241m==\u001b[39m \u001b[38;5;241m403\u001b[39m:\n\u001b[0;32m--> 271\u001b[0m     \u001b[38;5;28;01mraise\u001b[39;00m Forbidden(resp)\n\u001b[1;32m    272\u001b[0m \u001b[38;5;28;01mif\u001b[39;00m resp\u001b[38;5;241m.\u001b[39mstatus_code \u001b[38;5;241m==\u001b[39m \u001b[38;5;241m404\u001b[39m:\n\u001b[1;32m    273\u001b[0m     \u001b[38;5;28;01mraise\u001b[39;00m NotFound(resp)\n",
      "\u001b[0;31mForbidden\u001b[0m: 403 Forbidden\n453 - You currently have access to a subset of Twitter API v2 endpoints and limited v1.1 endpoints (e.g. media post, oauth) only. If you need access to this endpoint, you may need a different access level. You can learn more here: https://developer.twitter.com/en/portal/product"
     ]
    }
   ],
   "source": [
    "# Fetch user's tweets \n",
    "\n",
    "#Returns 403 forbidden as from API V2 the user reading access has been denied and it's paid\n",
    "tweets = api.user_timeline(screen_name=str(user1.name))\n",
    "\n",
    "# Print fetched tweets\n",
    "for tweet in tweets:\n",
    "    print(tweet.text)\n",
    "    print('---')"
   ]
  },
  {
   "cell_type": "markdown",
   "id": "89df2d1a",
   "metadata": {},
   "source": [
    "-- https://developer.twitter.com/en/docs/twitter-api/data-dictionary/object-model/user\n",
    "\n",
    "\n",
    "-- Here are some free functions we can use in Twitter API V2\n",
    "- id\n",
    "- name\n",
    "- user name\n",
    "- created_at\n",
    "- description\n",
    "- entities\n",
    "- location\n",
    "- pinned_tweet_id\n",
    "- profile_image_url\n",
    "- protected\n",
    "- public_metrics\n",
    "- url\n",
    "- verified\n",
    "- withheld"
   ]
  },
  {
   "cell_type": "code",
   "execution_count": 9,
   "id": "b9856063",
   "metadata": {},
   "outputs": [
    {
     "name": "stdout",
     "output_type": "stream",
     "text": [
      "User ID: 1485538568143802369\n",
      "Name: Shashank Madhwal\n",
      "Username: MadShank21\n",
      "Created At: 2022-01-24 09:03:11+00:00\n",
      "Description: The Official Madster | Software Engineer | Consistency over Interest..\n",
      "Entities: {'description': {'urls': []}}\n",
      "Location: \n",
      "Profile Image URL: http://pbs.twimg.com/profile_images/1485542549205155841/Bm0WeU4L_normal.jpg\n",
      "Protected: False\n",
      "URL: None\n",
      "Verified: False\n"
     ]
    }
   ],
   "source": [
    "# Screen name of the user whose details you want to retrieve\n",
    "screen_name = \"MadShank21\"\n",
    "\n",
    "try:\n",
    "    # Retrieve user details\n",
    "    user = api.get_user(screen_name=screen_name)\n",
    "\n",
    "    # Print user details\n",
    "    print(\"User ID:\", user.id)\n",
    "    print(\"Name:\", user.name)\n",
    "    print(\"Username:\", user.screen_name)\n",
    "    print(\"Created At:\", user.created_at)\n",
    "    print(\"Description:\", user.description)\n",
    "    print(\"Entities:\", user.entities)\n",
    "    print(\"Location:\", user.location)\n",
    "#     print(\"Pinned Tweet ID:\", user.pinned_tweet_id)\n",
    "    print(\"Profile Image URL:\", user.profile_image_url)\n",
    "    print(\"Protected:\", user.protected)\n",
    "#     print(\"Public Metrics:\", user.public_metrics)\n",
    "    print(\"URL:\", user.url)\n",
    "    print(\"Verified:\", user.verified)\n",
    "#     print(\"Withheld:\", user.withheld)\n",
    "\n",
    "except AttributeError as e:\n",
    "    print(\"Error:\", e)"
   ]
  },
  {
   "cell_type": "code",
   "execution_count": null,
   "id": "f316b392",
   "metadata": {},
   "outputs": [],
   "source": []
  }
 ],
 "metadata": {
  "kernelspec": {
   "display_name": "Python 3 (ipykernel)",
   "language": "python",
   "name": "python3"
  },
  "language_info": {
   "codemirror_mode": {
    "name": "ipython",
    "version": 3
   },
   "file_extension": ".py",
   "mimetype": "text/x-python",
   "name": "python",
   "nbconvert_exporter": "python",
   "pygments_lexer": "ipython3",
   "version": "3.11.4"
  }
 },
 "nbformat": 4,
 "nbformat_minor": 5
}
