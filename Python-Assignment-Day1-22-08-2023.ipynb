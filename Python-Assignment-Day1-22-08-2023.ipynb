{
 "cells": [
  {
   "cell_type": "code",
   "execution_count": 60,
   "id": "c9b61623",
   "metadata": {},
   "outputs": [],
   "source": [
    "# - Write a Python class to convert an integer to a Roman numeral.\n",
    "# - Write a Python class to get all possible unique subsets from a set of distinct integers.\n",
    "# Input : [4, 5, 6]\n",
    "# Output : [[], [6], [5], [5, 6], [4], [4, 6], [4, 5], [4, 5, 6]]\n",
    "# - Write a Python class named Student with two attributes student_id, student_name. Add a new attribute student_class \n",
    "# and display the entire attribute and the values of the class. Now remove the student_name attribute \n",
    "# and display the entire attribute with values.\n"
   ]
  },
  {
   "cell_type": "code",
   "execution_count": 61,
   "id": "1999cae5",
   "metadata": {},
   "outputs": [],
   "source": [
    "# Python program to convert an integer to a Roman numeral "
   ]
  },
  {
   "cell_type": "code",
   "execution_count": 62,
   "id": "691a5f9b",
   "metadata": {},
   "outputs": [],
   "source": [
    "\n",
    "class convert:\n",
    "    def intToRoman(self, num):\n",
    "        # Creating Dictionary for Lookup\n",
    "        num_map = {\n",
    "            1: \"I\",\n",
    "            5: \"V\",    4: \"IV\",\n",
    "            10: \"X\",   9: \"IX\",\n",
    "            50: \"L\",   40: \"XL\",\n",
    "            100: \"C\",  90: \"XC\",\n",
    "            500: \"D\",  400: \"CD\",\n",
    "            1000: \"M\", 900: \"CM\",\n",
    "        }\n",
    "        \n",
    "        # Result Variable\n",
    "        r = ''\n",
    "        \n",
    "        \n",
    "        for n in [1000, 900, 500, 400, 100, 90, 50, 40, 10, 9, 5, 4, 1]:\n",
    "            # If n in list then add the roman value to result variable\n",
    "            while n <= num:\n",
    "                r += num_map[n]\n",
    "                num-=n\n",
    "        print(r)"
   ]
  },
  {
   "cell_type": "code",
   "execution_count": 63,
   "id": "52a3fa9b",
   "metadata": {},
   "outputs": [],
   "source": [
    "convert_to_r = convert()"
   ]
  },
  {
   "cell_type": "code",
   "execution_count": 64,
   "id": "e6b73a45",
   "metadata": {},
   "outputs": [
    {
     "name": "stdout",
     "output_type": "stream",
     "text": [
      "VI\n"
     ]
    }
   ],
   "source": [
    "convert_to_r.intToRoman(6)"
   ]
  },
  {
   "cell_type": "code",
   "execution_count": null,
   "id": "4cbc7e45",
   "metadata": {},
   "outputs": [],
   "source": []
  },
  {
   "cell_type": "code",
   "execution_count": null,
   "id": "cfa52c97",
   "metadata": {},
   "outputs": [],
   "source": []
  },
  {
   "cell_type": "code",
   "execution_count": null,
   "id": "88fd7a87",
   "metadata": {},
   "outputs": [],
   "source": []
  },
  {
   "cell_type": "code",
   "execution_count": 65,
   "id": "1a08d9dd",
   "metadata": {},
   "outputs": [],
   "source": [
    "# - Write a Python class to get all possible unique subsets from a set of distinct integers.\n",
    "# Input : [4, 5, 6]\n",
    "# Output : [[], [6], [5], [5, 6], [4], [4, 6], [4, 5], [4, 5, 6]]"
   ]
  },
  {
   "cell_type": "code",
   "execution_count": 66,
   "id": "b60d819b",
   "metadata": {},
   "outputs": [
    {
     "name": "stdout",
     "output_type": "stream",
     "text": [
      "[[], [6], [5], [5, 6], [4], [4, 6], [4, 5], [4, 5, 6], [1], [1, 6], [1, 5], [1, 5, 6], [1, 4], [1, 4, 6], [1, 4, 5], [1, 4, 5, 6]]\n"
     ]
    }
   ],
   "source": [
    "\n",
    "class unique_subset:\n",
    "    def sub_sets(self, subset):\n",
    "        return self.subsets_Recur([], sorted(subset))\n",
    "    \n",
    "    def subsets_Recur(self, current, sset):\n",
    "        if sset:\n",
    "            return self.subsets_Recur(current, sset[1:]) + self.subsets_Recur(current + [sset[0]], sset[1:])\n",
    "        return [current]\n",
    "\n",
    "print(unique_subset().sub_sets([1,4,5,6]))"
   ]
  },
  {
   "cell_type": "code",
   "execution_count": 67,
   "id": "2fd0e0f1",
   "metadata": {},
   "outputs": [],
   "source": [
    "# - Write a Python class named Student with two attributes student_id, student_name. Add a new attribute student_class \n",
    "# and display the entire attribute and the values of the class. Now remove the student_name attribute \n",
    "# and display the entire attribute with values."
   ]
  },
  {
   "cell_type": "code",
   "execution_count": null,
   "id": "83fe7a47",
   "metadata": {},
   "outputs": [],
   "source": []
  },
  {
   "cell_type": "code",
   "execution_count": 99,
   "id": "83b576dd",
   "metadata": {},
   "outputs": [],
   "source": [
    "class Student:\n",
    "    def __init__(self, id, name):\n",
    "        self.student_id = id\n",
    "        self.student_name = name"
   ]
  },
  {
   "cell_type": "code",
   "execution_count": 100,
   "id": "971497e2",
   "metadata": {},
   "outputs": [],
   "source": [
    "S1 = Student(1,\"Rahul\")"
   ]
  },
  {
   "cell_type": "code",
   "execution_count": 101,
   "id": "01cc25a8",
   "metadata": {},
   "outputs": [],
   "source": [
    "setattr(Student, \"student_class\", 10)"
   ]
  },
  {
   "cell_type": "code",
   "execution_count": 102,
   "id": "bdc3fe5c",
   "metadata": {},
   "outputs": [
    {
     "data": {
      "text/plain": [
       "{'student_id': 1, 'student_name': 'Rahul'}"
      ]
     },
     "execution_count": 102,
     "metadata": {},
     "output_type": "execute_result"
    }
   ],
   "source": [
    "S1.__dict__"
   ]
  },
  {
   "cell_type": "code",
   "execution_count": 103,
   "id": "96681283",
   "metadata": {},
   "outputs": [
    {
     "data": {
      "text/plain": [
       "mappingproxy({'__module__': '__main__',\n",
       "              '__init__': <function __main__.Student.__init__(self, id, name)>,\n",
       "              '__dict__': <attribute '__dict__' of 'Student' objects>,\n",
       "              '__weakref__': <attribute '__weakref__' of 'Student' objects>,\n",
       "              '__doc__': None,\n",
       "              'student_class': 10})"
      ]
     },
     "execution_count": 103,
     "metadata": {},
     "output_type": "execute_result"
    }
   ],
   "source": [
    "Student.__dict__"
   ]
  },
  {
   "cell_type": "code",
   "execution_count": 104,
   "id": "c33e61f6",
   "metadata": {},
   "outputs": [],
   "source": [
    "S2 = Student(2, \"Kiran\")"
   ]
  },
  {
   "cell_type": "code",
   "execution_count": 105,
   "id": "90dfd75c",
   "metadata": {},
   "outputs": [],
   "source": [
    "S2.student_class = 9"
   ]
  },
  {
   "cell_type": "code",
   "execution_count": 106,
   "id": "417f1a82",
   "metadata": {},
   "outputs": [
    {
     "name": "stdout",
     "output_type": "stream",
     "text": [
      "['__class__', '__delattr__', '__dict__', '__dir__', '__doc__', '__eq__', '__format__', '__ge__', '__getattribute__', '__getstate__', '__gt__', '__hash__', '__init__', '__init_subclass__', '__le__', '__lt__', '__module__', '__ne__', '__new__', '__reduce__', '__reduce_ex__', '__repr__', '__setattr__', '__sizeof__', '__str__', '__subclasshook__', '__weakref__', 'student_class', 'student_id', 'student_name']\n"
     ]
    }
   ],
   "source": [
    "print(dir(S2))"
   ]
  },
  {
   "cell_type": "code",
   "execution_count": 107,
   "id": "4fc4e74f",
   "metadata": {},
   "outputs": [
    {
     "data": {
      "text/plain": [
       "{'student_id': 2, 'student_name': 'Kiran', 'student_class': 9}"
      ]
     },
     "execution_count": 107,
     "metadata": {},
     "output_type": "execute_result"
    }
   ],
   "source": [
    "S2.__dict__"
   ]
  },
  {
   "cell_type": "code",
   "execution_count": 108,
   "id": "84792702",
   "metadata": {},
   "outputs": [
    {
     "data": {
      "text/plain": [
       "mappingproxy({'__module__': '__main__',\n",
       "              '__init__': <function __main__.Student.__init__(self, id, name)>,\n",
       "              '__dict__': <attribute '__dict__' of 'Student' objects>,\n",
       "              '__weakref__': <attribute '__weakref__' of 'Student' objects>,\n",
       "              '__doc__': None,\n",
       "              'student_class': 10})"
      ]
     },
     "execution_count": 108,
     "metadata": {},
     "output_type": "execute_result"
    }
   ],
   "source": [
    "Student.__dict__"
   ]
  },
  {
   "cell_type": "code",
   "execution_count": 109,
   "id": "6b761566",
   "metadata": {},
   "outputs": [
    {
     "name": "stdout",
     "output_type": "stream",
     "text": [
      "['__class__', '__delattr__', '__dict__', '__dir__', '__doc__', '__eq__', '__format__', '__ge__', '__getattribute__', '__getstate__', '__gt__', '__hash__', '__init__', '__init_subclass__', '__le__', '__lt__', '__module__', '__ne__', '__new__', '__reduce__', '__reduce_ex__', '__repr__', '__setattr__', '__sizeof__', '__str__', '__subclasshook__', '__weakref__', 'student_class']\n"
     ]
    }
   ],
   "source": [
    "print(dir(Student))"
   ]
  },
  {
   "cell_type": "code",
   "execution_count": 110,
   "id": "646fa3c2",
   "metadata": {},
   "outputs": [],
   "source": [
    "delattr(S1,\"student_name\")"
   ]
  },
  {
   "cell_type": "code",
   "execution_count": null,
   "id": "cf96b9e3",
   "metadata": {},
   "outputs": [],
   "source": []
  },
  {
   "cell_type": "code",
   "execution_count": 111,
   "id": "91f4e859",
   "metadata": {},
   "outputs": [
    {
     "data": {
      "text/plain": [
       "{'student_id': 1}"
      ]
     },
     "execution_count": 111,
     "metadata": {},
     "output_type": "execute_result"
    }
   ],
   "source": [
    "S1.__dict__"
   ]
  },
  {
   "cell_type": "code",
   "execution_count": 112,
   "id": "62ea5be8",
   "metadata": {},
   "outputs": [
    {
     "data": {
      "text/plain": [
       "mappingproxy({'__module__': '__main__',\n",
       "              '__init__': <function __main__.Student.__init__(self, id, name)>,\n",
       "              '__dict__': <attribute '__dict__' of 'Student' objects>,\n",
       "              '__weakref__': <attribute '__weakref__' of 'Student' objects>,\n",
       "              '__doc__': None,\n",
       "              'student_class': 10})"
      ]
     },
     "execution_count": 112,
     "metadata": {},
     "output_type": "execute_result"
    }
   ],
   "source": [
    "Student.__dict__"
   ]
  },
  {
   "cell_type": "code",
   "execution_count": null,
   "id": "387789ba",
   "metadata": {},
   "outputs": [],
   "source": []
  },
  {
   "cell_type": "code",
   "execution_count": null,
   "id": "a57a1d03",
   "metadata": {},
   "outputs": [],
   "source": []
  }
 ],
 "metadata": {
  "kernelspec": {
   "display_name": "Python 3 (ipykernel)",
   "language": "python",
   "name": "python3"
  },
  "language_info": {
   "codemirror_mode": {
    "name": "ipython",
    "version": 3
   },
   "file_extension": ".py",
   "mimetype": "text/x-python",
   "name": "python",
   "nbconvert_exporter": "python",
   "pygments_lexer": "ipython3",
   "version": "3.11.4"
  }
 },
 "nbformat": 4,
 "nbformat_minor": 5
}
